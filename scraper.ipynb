{
 "cells": [
  {
   "cell_type": "code",
   "execution_count": 43,
   "metadata": {},
   "outputs": [],
   "source": [
    "import requests\n",
    "import bs4\n",
    "import re\n",
    "from selenium import webdriver\n",
    "import time"
   ]
  },
  {
   "cell_type": "code",
   "execution_count": 44,
   "metadata": {},
   "outputs": [],
   "source": [
    "# BRANDS = [\n",
    "#   'rolex',\n",
    "#   'audemarspiguet',\n",
    "#   'breitling',\n",
    "#   'iwc',\n",
    "#   'jaegerlecoultre',\n",
    "#   'omega',\n",
    "#   'panerai',\n",
    "#   'patekphilippe',\n",
    "#   'cartier',\n",
    "#   'gucci',\n",
    "#   'seiko',\n",
    "#   'movado',\n",
    "#   'zenith'\n",
    "# ]\n",
    "\n",
    "BRANDS = [\n",
    "  'rolex',\n",
    "  'cartier',\n",
    "    'seiko',\n",
    "    'omega',\n",
    "]"
   ]
  },
  {
   "cell_type": "code",
   "execution_count": 45,
   "metadata": {},
   "outputs": [],
   "source": [
    "base_url = \"https://www.chrono24.ca/{}/index-{}.htm\""
   ]
  },
  {
   "cell_type": "code",
   "execution_count": 46,
   "metadata": {},
   "outputs": [
    {
     "data": {
      "text/plain": [
       "'https://www.chrono24.ca/rolex/index-1.htm'"
      ]
     },
     "execution_count": 46,
     "metadata": {},
     "output_type": "execute_result"
    }
   ],
   "source": [
    "base_url.format(BRANDS[0], 1)"
   ]
  },
  {
   "cell_type": "code",
   "execution_count": 47,
   "metadata": {},
   "outputs": [],
   "source": [
    "options = webdriver.ChromeOptions()\n",
    "options.add_argument('--ignore-certificate-errors')\n",
    "options.add_argument('--incognito')\n",
    "# options.add_argument('--headless')\n",
    "driver = webdriver.Chrome(executable_path='C:/Users/Zakaria/Desktop/FullStackMLProject/chromedriver', options=options)"
   ]
  },
  {
   "cell_type": "code",
   "execution_count": 48,
   "metadata": {},
   "outputs": [],
   "source": [
    "for brand in BRANDS:\n",
    "    for n in range(5): \n",
    "#         res = requests.get(base_url.format(brand, n+1))\n",
    "        driver.get(base_url.format(brand, n+1))\n",
    "        time.sleep(3)\n",
    "        \n",
    "        Y = 0\n",
    "        for i in range(15):\n",
    "            Y +=500\n",
    "            driver.execute_script(\"window.scrollTo(0, {})\".format(Y))\n",
    "            time.sleep(3)    \n",
    "        \n",
    "        page_source = driver.page_source\n",
    "\n",
    "        soup = bs4.BeautifulSoup(page_source, 'lxml')\n",
    "        article_divs = soup.select(\".article-item-container\")\n",
    "\n",
    "        for image in article_divs:\n",
    "            img_div = image.select(\".article-image-container .content img\")\n",
    "\n",
    "            if not (image.select(\".article-price strong\")):\n",
    "                continue\n",
    "\n",
    "            price_text = image.select(\".article-price strong\")\n",
    "\n",
    "            if (not img_div) or (not price_text):\n",
    "                continue \n",
    "\n",
    "            image_url = [img_div[0][\"src\"]]\n",
    "            price = re.sub('[^0-9]', \"\", str(price_text[0]))\n",
    "\n",
    "            if (not image_url or not price):\n",
    "                continue\n",
    "\n",
    "            with open(\"data/{}.txt\".format(brand), \"a\") as f: \n",
    "                f.write(\"{}, {}\\n\".format(image_url[0], price))\n"
   ]
  },
  {
   "cell_type": "code",
   "execution_count": null,
   "metadata": {},
   "outputs": [],
   "source": []
  }
 ],
 "metadata": {
  "kernelspec": {
   "display_name": "Python 3",
   "language": "python",
   "name": "python3"
  },
  "language_info": {
   "codemirror_mode": {
    "name": "ipython",
    "version": 3
   },
   "file_extension": ".py",
   "mimetype": "text/x-python",
   "name": "python",
   "nbconvert_exporter": "python",
   "pygments_lexer": "ipython3",
   "version": "3.7.3"
  }
 },
 "nbformat": 4,
 "nbformat_minor": 4
}
