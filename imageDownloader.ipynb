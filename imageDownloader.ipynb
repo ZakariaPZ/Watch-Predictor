{
 "cells": [
  {
   "cell_type": "code",
   "execution_count": 38,
   "metadata": {},
   "outputs": [],
   "source": [
    "import requests"
   ]
  },
  {
   "cell_type": "code",
   "execution_count": 39,
   "metadata": {},
   "outputs": [],
   "source": [
    "# BRANDS = [\n",
    "#   'rolex',\n",
    "#   'audemarspiguet',\n",
    "#   'breitling',\n",
    "#   'iwc', \n",
    "#   'jaegerlecoultre',\n",
    "#   'omega', \n",
    "#   'panerai',\n",
    "#   'patekphilippe',\n",
    "#   'cartier',\n",
    "#   'gucci',\n",
    "#   'seiko',\n",
    "#   'movado',\n",
    "#   'zenith'\n",
    "# ]\n",
    "\n",
    "BRANDS = [\n",
    "  'rolex',\n",
    "  'cartier',\n",
    "    'seiko',\n",
    "    'omega',\n",
    "]"
   ]
  },
  {
   "cell_type": "code",
   "execution_count": 44,
   "metadata": {},
   "outputs": [],
   "source": [
    "count = 0\n",
    "direc = \"train\"\n",
    "for brand in BRANDS:\n",
    "    \n",
    "    with open ('data/{}.txt'.format(brand), 'rt') as myfile:  # Open lorem.txt for reading\n",
    "        for ind, myline in enumerate(myfile):              # For each line, read to a string,\n",
    "            url = myline.split(\", \")[0]       # and print the string.\n",
    "            price = myline.split(\", \")[1]\n",
    "            #brand-index-price\n",
    "            \n",
    "            if count == 250:\n",
    "                direc = \"valid\"\n",
    "                \n",
    "            img_data = requests.get(url).content\n",
    "            with open('{}/{}/{}-{}-{}.jpg'.format(direc ,brand, brand, ind, price.rstrip(\"\\n\")), 'wb') as handler:\n",
    "                handler.write(img_data)\n",
    "            \n",
    "            count += 1\n",
    "    \n",
    "    count = 0\n",
    "    direc = \"train\""
   ]
  },
  {
   "cell_type": "code",
   "execution_count": null,
   "metadata": {},
   "outputs": [],
   "source": [
    "img_data = requests.get(url[0]).content\n",
    "with open('image_name.jpg', 'wb') as handler:\n",
    "    handler.write(img_data)"
   ]
  },
  {
   "cell_type": "code",
   "execution_count": 21,
   "metadata": {},
   "outputs": [
    {
     "data": {
      "text/plain": [
       "'hey 1'"
      ]
     },
     "execution_count": 21,
     "metadata": {},
     "output_type": "execute_result"
    }
   ],
   "source": [
    "\"hey {}\".format(1)"
   ]
  },
  {
   "cell_type": "code",
   "execution_count": null,
   "metadata": {},
   "outputs": [],
   "source": []
  }
 ],
 "metadata": {
  "kernelspec": {
   "display_name": "Python 3",
   "language": "python",
   "name": "python3"
  },
  "language_info": {
   "codemirror_mode": {
    "name": "ipython",
    "version": 3
   },
   "file_extension": ".py",
   "mimetype": "text/x-python",
   "name": "python",
   "nbconvert_exporter": "python",
   "pygments_lexer": "ipython3",
   "version": "3.7.3"
  }
 },
 "nbformat": 4,
 "nbformat_minor": 4
}
